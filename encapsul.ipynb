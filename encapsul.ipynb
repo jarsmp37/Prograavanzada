{
 "cells": [
  {
   "cell_type": "markdown",
   "metadata": {},
   "source": [
    "## Encapsulamiento de datos"
   ]
  },
  {
   "cell_type": "code",
   "execution_count": null,
   "metadata": {},
   "outputs": [
    {
     "ename": "AttributeError",
     "evalue": "'CuentaBancaria' object has no attribute 'titular'",
     "output_type": "error",
     "traceback": [
      "\u001b[1;31m---------------------------------------------------------------------------\u001b[0m",
      "\u001b[1;31mAttributeError\u001b[0m                            Traceback (most recent call last)",
      "Cell \u001b[1;32mIn[6], line 8\u001b[0m\n\u001b[0;32m      4\u001b[0m         \u001b[38;5;28mself\u001b[39m\u001b[38;5;241m.\u001b[39msaldo\u001b[38;5;241m=\u001b[39msaldo\n\u001b[0;32m      7\u001b[0m cuenta1\u001b[38;5;241m=\u001b[39mCuentaBancaria(\u001b[38;5;124m\"\u001b[39m\u001b[38;5;124mXimena\u001b[39m\u001b[38;5;124m\"\u001b[39m,\u001b[38;5;241m100000\u001b[39m)\n\u001b[1;32m----> 8\u001b[0m \u001b[43mcuenta1\u001b[49m\u001b[38;5;241;43m.\u001b[39;49m\u001b[43mtitular\u001b[49m\n\u001b[0;32m      9\u001b[0m \u001b[38;5;66;03m#print(f\"el nombre al que está la cuenta es {cuenta1.titular}\")\u001b[39;00m\n",
      "\u001b[1;31mAttributeError\u001b[0m: 'CuentaBancaria' object has no attribute 'titular'"
     ]
    }
   ],
   "source": [
    "class CuentaBancaria:\n",
    "    def __init__(self,titular,saldo):\n",
    "        self.titular=titular\n",
    "        self.saldo=saldo\n",
    "\n",
    "\n",
    "cuenta1=CuentaBancaria(\"Ximena\",100000)\n",
    "cuenta1.titular\n",
    "#print(f\"el nombre al que está la cuenta es {cuenta1.titular}\")"
   ]
  },
  {
   "cell_type": "code",
   "execution_count": 20,
   "metadata": {},
   "outputs": [
    {
     "data": {
      "text/plain": [
       "100000"
      ]
     },
     "execution_count": 20,
     "metadata": {},
     "output_type": "execute_result"
    }
   ],
   "source": [
    "class CuentaBancaria:\n",
    "    def __init__(self,titular,saldo):\n",
    "        self._titular=titular\n",
    "        self.__saldo=saldo\n",
    "\n",
    "    #Getter\n",
    "    def obtenersaldo(self):\n",
    "        return self.__saldo\n",
    "    \n",
    "    #Setter\n",
    "    def depositarrsaldo(self,newsaldo):\n",
    "        self.__saldo += newsaldo\n",
    "\n",
    "    def retiro(self,cant):\n",
    "        if self.__saldo<cant:\n",
    "            print(\"No tienes dinero pobre\")\n",
    "        else:\n",
    "            self.__saldo -= cant\n",
    "\n",
    "\n",
    "cuenta1=CuentaBancaria(\"Ximena\",100000)\n",
    "cuenta1.obtenersaldo()\n",
    "\n"
   ]
  },
  {
   "cell_type": "code",
   "execution_count": 21,
   "metadata": {},
   "outputs": [],
   "source": [
    "cuenta1.retiro(80000)"
   ]
  },
  {
   "cell_type": "code",
   "execution_count": 22,
   "metadata": {},
   "outputs": [
    {
     "data": {
      "text/plain": [
       "20000"
      ]
     },
     "execution_count": 22,
     "metadata": {},
     "output_type": "execute_result"
    }
   ],
   "source": [
    "cuenta1.obtenersaldo()"
   ]
  },
  {
   "cell_type": "code",
   "execution_count": 23,
   "metadata": {},
   "outputs": [
    {
     "name": "stdout",
     "output_type": "stream",
     "text": [
      "No tienes dinero pobre\n"
     ]
    }
   ],
   "source": [
    "cuenta1.retiro(30000)"
   ]
  },
  {
   "cell_type": "markdown",
   "metadata": {},
   "source": [
    "## Polimorfismo"
   ]
  },
  {
   "cell_type": "code",
   "execution_count": 24,
   "metadata": {},
   "outputs": [
    {
     "data": {
      "text/plain": [
       "2"
      ]
     },
     "execution_count": 24,
     "metadata": {},
     "output_type": "execute_result"
    }
   ],
   "source": [
    "1+1"
   ]
  },
  {
   "cell_type": "code",
   "execution_count": 25,
   "metadata": {},
   "outputs": [
    {
     "data": {
      "text/plain": [
       "'Holatú'"
      ]
     },
     "execution_count": 25,
     "metadata": {},
     "output_type": "execute_result"
    }
   ],
   "source": [
    "\"Hola\"+\"tú\""
   ]
  },
  {
   "cell_type": "code",
   "execution_count": 26,
   "metadata": {},
   "outputs": [
    {
     "data": {
      "text/plain": [
       "6.5"
      ]
     },
     "execution_count": 26,
     "metadata": {},
     "output_type": "execute_result"
    }
   ],
   "source": [
    "3+3.5"
   ]
  },
  {
   "cell_type": "code",
   "execution_count": 28,
   "metadata": {},
   "outputs": [],
   "source": [
    "class Alumnos:\n",
    "    def __init__(self,nombre):\n",
    "        self.nombre=nombre\n",
    "\n",
    "    def saludo(self):\n",
    "        print(f\"Hola soy {self.nombre} estudio en CU2\")\n",
    "\n",
    "class CienciasComp(Alumnos):\n",
    "    def saludo(self):\n",
    "        print(f\"Hola soy {self.nombre} y estudio Ciencias de la computación\")\n",
    "\n",
    "class CienciaDatos(Alumnos):\n",
    "    def saludo(self):\n",
    "        print(f\"Hola soy {self.nombre} y estudio Ciencia de Datos\")"
   ]
  },
  {
   "cell_type": "code",
   "execution_count": 29,
   "metadata": {},
   "outputs": [
    {
     "name": "stdout",
     "output_type": "stream",
     "text": [
      "Hola soy Farid estudio en CU2\n",
      "Hola soy Carlos y estudio Ciencias de la computación\n",
      "Hola soy Samara y estudio Ciencia de Datos\n"
     ]
    }
   ],
   "source": [
    "al1=Alumnos(\"Farid\")\n",
    "al2=CienciasComp(\"Carlos\")\n",
    "al3=CienciaDatos(\"Samara\")\n",
    "al1.saludo()\n",
    "al2.saludo()\n",
    "al3.saludo()"
   ]
  }
 ],
 "metadata": {
  "kernelspec": {
   "display_name": "Python 3",
   "language": "python",
   "name": "python3"
  },
  "language_info": {
   "codemirror_mode": {
    "name": "ipython",
    "version": 3
   },
   "file_extension": ".py",
   "mimetype": "text/x-python",
   "name": "python",
   "nbconvert_exporter": "python",
   "pygments_lexer": "ipython3",
   "version": "3.12.6"
  }
 },
 "nbformat": 4,
 "nbformat_minor": 2
}
