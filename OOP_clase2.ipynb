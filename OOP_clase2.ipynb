{
 "cells": [
  {
   "cell_type": "markdown",
   "metadata": {},
   "source": [
    "# Atributos de Clase\n",
    "\n",
    "## ¿Qué son los Atributos de Clase?\n",
    "- Son propiedades definidas a nivel de la clase, no a nivel de los objetos.\n",
    "- Se comparten entre todas las instancias de la clase.\n",
    "- Se utilizan para almacenar información que es común a todos los objetos.\n",
    "\n",
    "---\n",
    "\n",
    "## ¿Cómo Definirlos?\n",
    "\n",
    "1. **Declaración Directa en la Clase**\n",
    "   - Los atributos de clase se definen directamente dentro del cuerpo de la clase, fuera de los métodos.\n",
    "2. **Acceso a los Atributos de Clase**\n",
    "   - Se acceden con `Clase.atributo` o `self.atributo` (aunque lo segundo no es recomendable para atributos de clase).\n",
    "3. **Modificación**\n",
    "   - Se pueden modificar directamente desde la clase (`Clase.atributo`) o desde cualquier instancia.\n",
    "\n",
    "---\n",
    "\n"
   ]
  },
  {
   "cell_type": "code",
   "execution_count": 1,
   "metadata": {},
   "outputs": [
    {
     "name": "stdout",
     "output_type": "stream",
     "text": [
      "Animalia\n",
      "Animalia\n",
      "Animalia\n",
      "Metazoa\n",
      "Metazoa\n",
      "Metazoa\n"
     ]
    }
   ],
   "source": [
    "class Animal:\n",
    "    \n",
    "    reino = \"Animalia\"  \n",
    "    \n",
    "    def __init__(self, nombre, especie):\n",
    "        self.nombre = nombre  \n",
    "        self.especie = especie  \n",
    "\n",
    "animal1 = Animal(\"León\", \"Felino\")\n",
    "animal2 = Animal(\"Elefante\", \"Paquidermo\")\n",
    "\n",
    "\n",
    "print(Animal.reino)  \n",
    "print(animal1.reino)  \n",
    "print(animal2.reino)  \n",
    "\n",
    "\n",
    "Animal.reino = \"Metazoa\"\n",
    "\n",
    "print(Animal.reino)  \n",
    "print(animal1.reino)  \n",
    "print(animal2.reino)  \n"
   ]
  },
  {
   "cell_type": "markdown",
   "metadata": {},
   "source": [
    "## Herencia\n",
    "\n",
    "En este proceso podemos tener una clase madre y todos sus atributos con métodos, se pueden jalar a otra subclase con caractéristicas nuevas sin alterar a la original"
   ]
  },
  {
   "cell_type": "code",
   "execution_count": 2,
   "metadata": {},
   "outputs": [],
   "source": [
    "class Humano:\n",
    "    def __init__(self,nombre,edad, genero):\n",
    "        self.nombre=nombre\n",
    "        self.edad=edad\n",
    "        self.genero=genero\n",
    "\n",
    "    def caract(self):\n",
    "        print(f\"Hola mi nombre es {self.nombre} tengo {self.edad} y soy {self.genero}\")\n",
    "\n",
    "    def saludo(self):\n",
    "        print(\"Hola soy humano\")"
   ]
  },
  {
   "cell_type": "code",
   "execution_count": 7,
   "metadata": {},
   "outputs": [
    {
     "name": "stdout",
     "output_type": "stream",
     "text": [
      "Hola mi nombre es Gaby tengo 18 y soy Mujer\n",
      "Hola soy humano\n"
     ]
    }
   ],
   "source": [
    "Gaby=Humano(\"Gaby\",18,\"Mujer\")\n",
    "Gaby.caract()\n",
    "Gaby.saludo()\n"
   ]
  },
  {
   "cell_type": "markdown",
   "metadata": {},
   "source": [
    "# Clase hija\n",
    "En esta se agarra las características del padre y agrega nuevas funciones, con definir en la clase entre paréntesis después del nombre la clase padre "
   ]
  },
  {
   "cell_type": "code",
   "execution_count": 4,
   "metadata": {},
   "outputs": [],
   "source": [
    "class programador(Humano):\n",
    "    def saludo2(self):\n",
    "        print(\"hola soy programador\")\n",
    "    "
   ]
  },
  {
   "cell_type": "code",
   "execution_count": 5,
   "metadata": {},
   "outputs": [
    {
     "name": "stdout",
     "output_type": "stream",
     "text": [
      "Hola mi nombre es Ana tengo 18 y soy Mujer\n",
      "Hola soy humano\n",
      "hola soy programador\n"
     ]
    }
   ],
   "source": [
    "ana=programador(\"Ana\",18,\"Mujer\")\n",
    "ana.caract()\n",
    "ana.saludo()\n",
    "ana.saludo2()"
   ]
  },
  {
   "cell_type": "code",
   "execution_count": 9,
   "metadata": {},
   "outputs": [],
   "source": [
    "class programador(Humano):\n",
    "    def __init__(self, nombre,edad,genero,lenguaje):\n",
    "        super().__init__(nombre,edad,genero)\n",
    "        self.lenguaje=lenguaje\n",
    "\n",
    "    def saludo2(self):\n",
    "        print(\"hola soy programador\")\n",
    "    \n",
    "    def accion(self):\n",
    "        print(f\"Yo programo en {self.lenguaje}\")"
   ]
  },
  {
   "cell_type": "code",
   "execution_count": 11,
   "metadata": {},
   "outputs": [
    {
     "name": "stdout",
     "output_type": "stream",
     "text": [
      "Hola mi nombre es Ana tengo 18 y soy Mujer\n",
      "Hola soy humano\n",
      "hola soy programador\n",
      "Yo programo en C++\n"
     ]
    }
   ],
   "source": [
    "ana=programador(\"Ana\",18,\"Mujer\",\"C++\")\n",
    "ana.caract()\n",
    "ana.saludo()\n",
    "ana.saludo2()\n",
    "ana.accion()"
   ]
  },
  {
   "cell_type": "markdown",
   "metadata": {},
   "source": [
    "Agregar un nuevo atributo ademas de los definidos en la clase humano"
   ]
  },
  {
   "cell_type": "code",
   "execution_count": 10,
   "metadata": {},
   "outputs": [],
   "source": [
    "class proga(Humano):\n",
    "    def __init__(self,nombre,edad, genero,lenguaje,color):\n",
    "        super().__init__(nombre,edad,genero)\n",
    "        self.lenguaje=lenguaje\n",
    "        self.color=color\n",
    "\n",
    "    def accion(self):\n",
    "        print(f\"Yo puedo programar en {self.lenguaje}\")\n",
    "    \n",
    "    def saludo(self):\n",
    "        print(\"Hola mundo estoy programando en python\")\n",
    "\n",
    "    def como(self):\n",
    "        super().caract()\n",
    "\n",
    "    def favorito(self):\n",
    "        return f\"Mi color favorito es {self.color}\""
   ]
  },
  {
   "cell_type": "code",
   "execution_count": 15,
   "metadata": {},
   "outputs": [
    {
     "name": "stdout",
     "output_type": "stream",
     "text": [
      "Hola mi nombre es Fati tengo 18 y soy Mujer\n",
      "Hola mundo estoy programando en python\n",
      "Yo puedo programar en C++\n",
      "Hola mi nombre es Fati tengo 18 y soy Mujer\n",
      "Mi color favorito es Rosa\n"
     ]
    }
   ],
   "source": [
    "fati=proga(\"Fati\",18,\"Mujer\",\"C++\",\"Rosa\")\n",
    "fati.caract()\n",
    "fati.saludo()\n",
    "fati.accion()\n",
    "fati.como()\n",
    "print(fati.favorito())"
   ]
  },
  {
   "cell_type": "code",
   "execution_count": 1,
   "metadata": {},
   "outputs": [],
   "source": [
    "class Animal:\n",
    "    def __init__(self,nombre,color,patas):\n",
    "        self.nombre=nombre\n",
    "        self.color=color\n",
    "        self.patas=patas\n",
    "    \n",
    "    def descripcion(self):\n",
    "       return f\"Soy un {self.nombre},  tengo {self.patas} patas, soy de color {self.color}\"\n"
   ]
  },
  {
   "cell_type": "code",
   "execution_count": 2,
   "metadata": {},
   "outputs": [
    {
     "data": {
      "text/plain": [
       "'Soy un perro,  tengo 4 patas, soy de color gris'"
      ]
     },
     "execution_count": 2,
     "metadata": {},
     "output_type": "execute_result"
    }
   ],
   "source": [
    "ani1=Animal(\"perro\",\"gris\",4)\n",
    "ani1.descripcion()"
   ]
  },
  {
   "cell_type": "code",
   "execution_count": 7,
   "metadata": {},
   "outputs": [],
   "source": [
    "class Ave(Animal):\n",
    "    def __init__(self,nombre,color,patas,pico):\n",
    "        super().__init__(nombre,color,patas)\n",
    "        self.pico=pico\n",
    "\n",
    "    def tamaño_pico(self):\n",
    "        print(super().descripcion()+f\" y mi pico mide {self.pico} cm\")"
   ]
  },
  {
   "cell_type": "code",
   "execution_count": 8,
   "metadata": {},
   "outputs": [
    {
     "name": "stdout",
     "output_type": "stream",
     "text": [
      "Soy un Perico,  tengo 2 patas, soy de color Verde\n",
      "Soy un Perico,  tengo 2 patas, soy de color Verde y mi pico mide 5 cm\n"
     ]
    }
   ],
   "source": [
    "an2=Ave(\"Perico\",\"Verde\",2,5)\n",
    "print(an2.descripcion())\n",
    "an2.tamaño_pico()"
   ]
  },
  {
   "cell_type": "code",
   "execution_count": null,
   "metadata": {},
   "outputs": [],
   "source": []
  }
 ],
 "metadata": {
  "kernelspec": {
   "display_name": "Python 3",
   "language": "python",
   "name": "python3"
  },
  "language_info": {
   "codemirror_mode": {
    "name": "ipython",
    "version": 3
   },
   "file_extension": ".py",
   "mimetype": "text/x-python",
   "name": "python",
   "nbconvert_exporter": "python",
   "pygments_lexer": "ipython3",
   "version": "3.12.6"
  }
 },
 "nbformat": 4,
 "nbformat_minor": 2
}
