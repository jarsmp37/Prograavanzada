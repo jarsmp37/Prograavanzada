{
 "cells": [
  {
   "cell_type": "markdown",
   "metadata": {},
   "source": [
    "## GUI (Graphic User Interface)"
   ]
  },
  {
   "cell_type": "markdown",
   "metadata": {},
   "source": [
    "Se utilizará la librería tkinter"
   ]
  },
  {
   "cell_type": "markdown",
   "metadata": {},
   "source": [
    "Crearemos una ventana, para la cual la nombraremos primero, en este caso se llamará ven1"
   ]
  },
  {
   "cell_type": "code",
   "execution_count": 1,
   "metadata": {},
   "outputs": [],
   "source": [
    "#Importamos librerías\n",
    "import tkinter as tk\n",
    "from tkinter import ttk\n",
    "\n",
    "#Definimos la ventana\n",
    "ven1 = tk.Tk()\n",
    "#Le damos un título a la ventana\n",
    "ven1.title(\"Mi primera aplicación con Tkinter\")\n",
    "#Programamos dimensiones\n",
    "ven1.geometry(\"600x500\")\n",
    "# Iniciar el bucle principal de la aplicación\n",
    "ven1.mainloop()"
   ]
  },
  {
   "cell_type": "markdown",
   "metadata": {},
   "source": [
    "# Etiquetas (Labels) en Tkinter\n",
    "\n",
    "Las etiquetas (`Label`) son widgets que muestran **texto o imágenes estáticas**. Se usan para:\n",
    "- Títulos o instrucciones.\n",
    "- Mostrar información no interactiva.\n",
    "- Acompañar otros widgets (ej: junto a un campo de entrada).\n",
    "\n",
    "**Propiedades clave**:\n",
    "- `text`: Texto a mostrar.\n",
    "- `font`: Fuente y tamaño (ej: `(\"Arial\", 12)`).\n",
    "- `fg`/`bg`: Color de texto/fondo (ej: `\"blue\"`, `\"#FF0000\"`).\n",
    "- `padx`/`pady`: Espaciado interno."
   ]
  },
  {
   "cell_type": "code",
   "execution_count": 8,
   "metadata": {},
   "outputs": [],
   "source": [
    "import tkinter as tk\n",
    "\n",
    "ventana = tk.Tk()\n",
    "ventana.title(\"Ejemplo Básico\")\n",
    "ventana.geometry(\"600x450\")\n",
    "\n",
    "# Crear etiqueta\n",
    "etiqueta = tk.Label(\n",
    "    ventana,\n",
    "    text=\"¡Hola, Grupo de programación Avanzada!\", \n",
    "    font=(\"Arial\", 14, \"bold\"), \n",
    "    fg=\"white\", \n",
    "    bg=\"navy\",\n",
    "    padx=20,\n",
    "    pady=10\n",
    ")\n",
    "etiqueta.pack()\n",
    "#etiqueta.place(x=0,y=0)\n",
    "\n",
    "ventana.mainloop()"
   ]
  },
  {
   "cell_type": "markdown",
   "metadata": {},
   "source": [
    "## Etiqueta con Imagen\n",
    "\n",
    "Para mostrar imágenes en una etiqueta:\n",
    "- Usa `PhotoImage` para cargar archivos **PNG**.\n",
    "- **Nota**: Para formatos como JPG o GIF, instala la librería `Pillow` y usa `ImageTk.PhotoImage`."
   ]
  },
  {
   "cell_type": "code",
   "execution_count": 7,
   "metadata": {},
   "outputs": [
    {
     "name": "stdout",
     "output_type": "stream",
     "text": [
      "Requirement already satisfied: Pillow in c:\\users\\jaime\\appdata\\local\\programs\\python\\python312\\lib\\site-packages (10.4.0)Note: you may need to restart the kernel to use updated packages.\n",
      "\n"
     ]
    }
   ],
   "source": [
    "pip install Pillow"
   ]
  },
  {
   "cell_type": "code",
   "execution_count": 6,
   "metadata": {},
   "outputs": [],
   "source": [
    "import tkinter as tk\n",
    "from PIL import Image, ImageTk \n",
    "\n",
    "root = tk.Tk()\n",
    "root.title(\"Imagen en Tkinter\")\n",
    "\n",
    "# Cargar la imagen\n",
    "imagen = Image.open(\"C://Users//Jaime//Documents//GitHub//progavan//GUI_tkinter//pythonimg.jpg\")\n",
    "imagen = imagen.resize((400, 200))  # Redimensionar si es necesario\n",
    "imagen_tk = ImageTk.PhotoImage(imagen) \n",
    "\n",
    "label_imagen = tk.Label(root, image=imagen_tk)\n",
    "label_imagen.pack(pady=20) \n",
    "\n",
    "root.mainloop()"
   ]
  },
  {
   "cell_type": "markdown",
   "metadata": {},
   "source": [
    "## Crear Botones en Tkinter\n",
    "\n",
    "En Tkinter, los botones se crean utilizando el widget `Button`. A continuación te muestro un ejemplo básico de cómo crear botones y asignarles funciones (eventos) para que realicen acciones cuando se haga clic en ellos."
   ]
  },
  {
   "cell_type": "code",
   "execution_count": 4,
   "metadata": {},
   "outputs": [
    {
     "name": "stdout",
     "output_type": "stream",
     "text": [
      "Hiciste Click!\n",
      "Hiciste Click!\n",
      "Hiciste Click!\n",
      "Hiciste Click!\n",
      "Hiciste Click!\n",
      "Hiciste Click!\n",
      "Hiciste Click!\n"
     ]
    }
   ],
   "source": [
    "import tkinter as tk\n",
    "\n",
    "# Función que se ejecuta cuando se hace clic en el botón\n",
    "def boton_clic():\n",
    "    print(\"Hiciste Click!\")\n",
    "\n",
    "# Crear la ventana principal\n",
    "root = tk.Tk()\n",
    "root.title(\"Botones en Tkinter\")\n",
    "\n",
    "# Crear un botón\n",
    "boton = tk.Button(root, \n",
    "                  text=\"Haz clic aquí\", \n",
    "                  command=boton_clic,\n",
    "                  font=(\"Comic Sans\",30),\n",
    "                  fg=\"Green\",\n",
    "                  bg=\"black\")\n",
    "boton.pack(pady=20) \n",
    "\n",
    "# Iniciar el bucle principal de la ventana\n",
    "root.mainloop()"
   ]
  },
  {
   "cell_type": "code",
   "execution_count": 9,
   "metadata": {},
   "outputs": [],
   "source": [
    "import tkinter as tk\n",
    "from tkinter import messagebox\n",
    "\n",
    "# Función que se ejecuta cuando se hace clic en el botón\n",
    "def boton_clic():\n",
    "    messagebox.showinfo(\"Mensaje\", \"¡Hiciste clic en el botón!\")\n",
    "\n",
    "# Crear la ventana principal\n",
    "root = tk.Tk()\n",
    "root.title(\"Botones en Tkinter\")\n",
    "\n",
    "# Crear un botón\n",
    "boton = tk.Button(root, text=\"Haz clic aquí\", command=boton_clic)\n",
    "boton.pack(pady=20) \n",
    "\n",
    "# Iniciar el bucle principal de la ventana\n",
    "root.mainloop()"
   ]
  },
  {
   "cell_type": "markdown",
   "metadata": {},
   "source": [
    "## Etiqueta Dinámica\n",
    "\n",
    "Podemos modificar el texto de una etiqueta usando `.config()`. En este ejemplo:\n",
    "- Un campo de entrada (`Entry`) recoge texto del usuario.\n",
    "- Un botón actualiza la etiqueta con el texto ingresado."
   ]
  },
  {
   "cell_type": "code",
   "execution_count": 10,
   "metadata": {},
   "outputs": [],
   "source": [
    "import tkinter as tk\n",
    "\n",
    "def actualizar_etiqueta():\n",
    "    nuevo_texto = entrada.get()\n",
    "    etiqueta.config(text=nuevo_texto)  # Actualiza el texto\n",
    "\n",
    "ventana = tk.Tk()\n",
    "ventana.title(\"Etiqueta Dinámica\")\n",
    "\n",
    "# Campo de entrada\n",
    "entrada = tk.Entry(ventana, width=30)\n",
    "entrada.pack(pady=10)\n",
    "\n",
    "# Botón\n",
    "boton = tk.Button(ventana, text=\"Actualizar\", command=actualizar_etiqueta)\n",
    "boton.pack()\n",
    "\n",
    "# Etiqueta\n",
    "etiqueta = tk.Label(ventana, text=\"Texto inicial\", font=(\"Arial\", 12))\n",
    "etiqueta.pack(pady=10)\n",
    "\n",
    "ventana.mainloop()"
   ]
  }
 ],
 "metadata": {
  "kernelspec": {
   "display_name": "Python 3",
   "language": "python",
   "name": "python3"
  },
  "language_info": {
   "codemirror_mode": {
    "name": "ipython",
    "version": 3
   },
   "file_extension": ".py",
   "mimetype": "text/x-python",
   "name": "python",
   "nbconvert_exporter": "python",
   "pygments_lexer": "ipython3",
   "version": "3.12.6"
  }
 },
 "nbformat": 4,
 "nbformat_minor": 2
}
