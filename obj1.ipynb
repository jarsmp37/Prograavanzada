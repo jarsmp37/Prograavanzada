{
 "cells": [
  {
   "cell_type": "code",
   "execution_count": 6,
   "metadata": {},
   "outputs": [
    {
     "name": "stdout",
     "output_type": "stream",
     "text": [
      "Rex dice: ¡Guau guau!\n",
      "La edad de Rex en años humanos es: 21\n",
      "Mi perro Rex tiene 3, es de raza Chihuahua y mide 18 cm\n",
      "fido dice: ¡Guau guau!\n",
      "La edad de fido en años humanos es: 35\n",
      "Mi perro fido tiene 5, es de raza pastor y mide 67 cm\n"
     ]
    }
   ],
   "source": [
    "# Definimos la clase 'Perro'\n",
    "class Perro:\n",
    "    # El método __init__ es el constructor de la clase aquí definimos atributos\n",
    "    def __init__(self, nombre, edad,raza,tamaño):\n",
    "        # 'self' hace referencia a la instancia actual del objeto\n",
    "        # Definimos las propiedades del objeto\n",
    "        self.nombre = nombre  # Atributo: nombre del perro\n",
    "        self.edad = edad      # Atributo: edad del perro\n",
    "        self.raza=raza\n",
    "        self.tamaño=tamaño\n",
    "\n",
    "    # Método para que el perro \"hable\"\n",
    "    def hablar(self):\n",
    "        print(f\"{self.nombre} dice: ¡Guau guau!\")\n",
    "    \n",
    "    # Método para calcular la edad en años humanos\n",
    "    def edad_humana(self):\n",
    "        return self.edad * 7\n",
    "    \n",
    "    def car(self):\n",
    "        print(f\"Mi perro {self.nombre} tiene {self.edad}, es de raza {self.raza} y mide {self.tamaño}\")\n",
    "\n",
    "# Crear un objeto de la clase 'Perro'\n",
    "mi_perro = Perro(\"Rex\", 3,\"Chihuahua\",\"18 cm\")\n",
    "mi_perro2 = Perro(\"fido\", 5,\"pastor\",\"67 cm\")\n",
    "\n",
    "# Llamar a los métodos del objeto\n",
    "mi_perro.hablar()  \n",
    "print(f\"La edad de {mi_perro.nombre} en años humanos es: {mi_perro.edad_humana()}\")\n",
    "mi_perro.car()\n",
    "\n",
    "mi_perro2.hablar()  \n",
    "print(f\"La edad de {mi_perro2.nombre} en años humanos es: {mi_perro2.edad_humana()}\")\n",
    "mi_perro2.car()"
   ]
  }
 ],
 "metadata": {
  "kernelspec": {
   "display_name": "Python 3",
   "language": "python",
   "name": "python3"
  },
  "language_info": {
   "codemirror_mode": {
    "name": "ipython",
    "version": 3
   },
   "file_extension": ".py",
   "mimetype": "text/x-python",
   "name": "python",
   "nbconvert_exporter": "python",
   "pygments_lexer": "ipython3",
   "version": "3.12.6"
  }
 },
 "nbformat": 4,
 "nbformat_minor": 2
}
