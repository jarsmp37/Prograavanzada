{
 "cells": [
  {
   "cell_type": "markdown",
   "metadata": {},
   "source": [
    "## Métodos especiales (Dunder Methods)"
   ]
  },
  {
   "cell_type": "code",
   "execution_count": null,
   "metadata": {},
   "outputs": [],
   "source": [
    "class Nombre:\n",
    "    def __init__(self,nom,edad,carrera):\n",
    "        self.nombre=nom\n",
    "        self.edad=edad\n",
    "        self.carrera=carrera\n",
    "\n",
    "    def __str__(self):\n",
    "        return f\"{self.nombre},{self.edad},{self.carrera}\"\n",
    "    \n",
    "    def __repr__(self):\n",
    "        return f\"Nombre(nombre:{self.nombre},edad:{self.edad},Carrera:{self.carrera})\"\n",
    "    \n",
    "    def __add__(self,otra):\n",
    "        return f\"{self.nombre} y {otra.nombre} se aman\"\n",
    "    \n",
    "    def __mul__(self,otra):\n",
    "        return self.edad*otra.edad\n",
    "    \n",
    "    def __eq__(self,otra):\n",
    "        return self.edad==otra.edad"
   ]
  },
  {
   "cell_type": "code",
   "execution_count": 21,
   "metadata": {},
   "outputs": [],
   "source": [
    "class Nombre:\n",
    "    def __init__(self,nom,edad,carrera):\n",
    "        self.nombre=nom\n",
    "        self.edad=edad\n",
    "        self.carrera=carrera\n",
    "\n",
    "    def __str__(self):\n",
    "        return f\"{self.nombre},{self.edad},{self.carrera}\"\n",
    "    \n",
    "    def __repr__(self):\n",
    "        return f\"Nombre(nombre:{self.nombre},edad:{self.edad},Carrera:{self.carrera})\"\n",
    "    \n",
    "    def __add__(self,otro):\n",
    "        return f\"{self.nombre} y {otro.nombre} se odian\"\n",
    "    \n",
    "    def __mul__(self,otro):\n",
    "        return f\"Las carreras son {self.carrera} y {otro.carrera}\"\n",
    "    \n",
    "    def __eq__(self,otro):\n",
    "        return self.nombre==otro.nombre"
   ]
  },
  {
   "cell_type": "code",
   "execution_count": 23,
   "metadata": {},
   "outputs": [
    {
     "name": "stdout",
     "output_type": "stream",
     "text": [
      "Mafer y Alan se odian\n",
      "Las carreras son Ciencias de la Computación y Arquitectura\n",
      "False\n",
      "True\n"
     ]
    }
   ],
   "source": [
    "alu1=Nombre(\"Mafer\",18,\"Ciencias de la Computación\")\n",
    "alu2=Nombre(\"Alan\",20,\"Arquitectura\")\n",
    "alu3=Nombre(\"Mafer\",22,\"Diseño Gráfico\")\n",
    "print(alu1+alu2)\n",
    "print(alu1*alu2)\n",
    "print(alu1==alu2)\n",
    "print(alu1==alu3)\n"
   ]
  }
 ],
 "metadata": {
  "kernelspec": {
   "display_name": "Python 3",
   "language": "python",
   "name": "python3"
  },
  "language_info": {
   "codemirror_mode": {
    "name": "ipython",
    "version": 3
   },
   "file_extension": ".py",
   "mimetype": "text/x-python",
   "name": "python",
   "nbconvert_exporter": "python",
   "pygments_lexer": "ipython3",
   "version": "3.12.6"
  }
 },
 "nbformat": 4,
 "nbformat_minor": 2
}
