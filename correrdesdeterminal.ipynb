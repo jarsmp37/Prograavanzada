{
 "cells": [
  {
   "cell_type": "code",
   "execution_count": null,
   "metadata": {},
   "outputs": [],
   "source": [
    "class Banco:\n",
    "    def __init__(self,nombre,saldo):\n",
    "        self.__nombre=nombre\n",
    "        self.__saldo=saldo\n",
    "\n",
    "    #Getter\n",
    "    def nombrecliente(self):\n",
    "        return self.__nombre\n",
    "    \n",
    "    def obtenersaldo(self):\n",
    "        return self.__saldo\n",
    "    \n",
    "    #Setter\n",
    "    def deposito(self,cant1):\n",
    "        self.__saldo += cant1\n",
    "        return f\"Tu nuevo saldo es {self.__saldo}\"\n",
    "    \n",
    "    def retirar(self,cant2):\n",
    "        if self.__saldo<cant2:\n",
    "            return \"No tienes saldo suficiente\"\n",
    "        else:\n",
    "            self.__saldo-=cant2\n",
    "            return f\"Tu nuevo saldo es {self.__saldo}\""
   ]
  },
  {
   "cell_type": "code",
   "execution_count": null,
   "metadata": {},
   "outputs": [],
   "source": [
    "from banco import Banco\n",
    "\n",
    "cliente1=Banco(\"Angel\",100000)\n",
    "print(cliente1.nombrecliente())\n",
    "print(cliente1.obtenersaldo())\n",
    "print(cliente1.deposito(20000))\n",
    "print(cliente1.obtenersaldo())\n",
    "print(cliente1.retirar(60000))\n",
    "print(cliente1.retirar(70000))"
   ]
  }
 ],
 "metadata": {
  "kernelspec": {
   "display_name": "Python 3",
   "language": "python",
   "name": "python3"
  },
  "language_info": {
   "name": "python",
   "version": "3.12.6"
  }
 },
 "nbformat": 4,
 "nbformat_minor": 2
}
