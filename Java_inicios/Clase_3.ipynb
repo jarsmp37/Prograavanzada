{
 "cells": [
  {
   "cell_type": "markdown",
   "metadata": {},
   "source": [
    "## El Ciclo `for` en Java\n",
    "\n",
    "### Explicación:\n",
    "\n",
    "El ciclo `for` es una estructura de control que permite repetir un bloque de código un número específico de veces. Es ideal cuando sabes de antemano cuántas veces quieres ejecutar el bloque de código.\n",
    "\n",
    "La sintaxis básica del ciclo `for` es:\n",
    "\n",
    "```java\n",
    "for (inicialización; condición; actualización) {\n",
    "    // Bloque de código a ejecutar\n",
    "}\n"
   ]
  },
  {
   "cell_type": "code",
   "execution_count": null,
   "metadata": {},
   "outputs": [],
   "source": [
    "public class Main {\n",
    "    public static void main(String[] args) {\n",
    "        // Ciclo for para imprimir números del 1 al 5\n",
    "        for (int i = 1; i <= 5; i++) {\n",
    "            System.out.println(i);\n",
    "        }\n",
    "    }\n",
    "}\n"
   ]
  },
  {
   "cell_type": "markdown",
   "metadata": {},
   "source": [
    "## Ejercicio: Imprimir la Tabla de Multiplicar\n",
    "\n",
    "### Enunciado:\n",
    "Crea un programa que utilice un ciclo `for` para imprimir la tabla de multiplicar de un número que el usuario ingrese. El programa debe pedir al usuario que ingrese un número y luego imprimir su tabla de multiplicar del 1 al 10.\n",
    "\n",
    "### Instrucciones:\n",
    "1. Pide al usuario ingresar un número.\n",
    "2. Usa un ciclo `for` para imprimir la tabla de multiplicar de ese número desde el 1 hasta el 10.\n",
    "3. Imprime el resultado de cada multiplicación en el formato:  \n",
    "   `número x i = resultado`\n",
    "\n"
   ]
  },
  {
   "cell_type": "markdown",
   "metadata": {},
   "source": [
    "## El Ciclo `while` en Java\n",
    "\n",
    "### Explicación:\n",
    "\n",
    "El ciclo `while` es una estructura de control que repite un bloque de código mientras se cumpla una condición específica. Es útil cuando no sabes cuántas veces necesitas ejecutar un bloque de código, pero sí sabes cuál es la condición de término.\n",
    "\n",
    "La sintaxis básica del ciclo `while` es:\n",
    "\n",
    "```java\n",
    "while (condición) {\n",
    "    // Bloque de código a ejecutar\n",
    "}\n"
   ]
  },
  {
   "cell_type": "code",
   "execution_count": null,
   "metadata": {},
   "outputs": [],
   "source": [
    "public class Main {\n",
    "    public static void main(String[] args) {\n",
    "        int i = 1; // Inicialización de la variable\n",
    "        while (i <= 5) { // Condición\n",
    "            System.out.println(i); // Bloque de código a ejecutar\n",
    "            i++; // Actualización\n",
    "        }\n",
    "    }\n",
    "}\n"
   ]
  },
  {
   "cell_type": "markdown",
   "metadata": {},
   "source": [
    "## Ejercicio: Adivina el Número\n",
    "\n",
    "### Enunciado:\n",
    "Crea un programa que utilice un ciclo `while` para que el usuario adivine un número secreto. El programa debe generar un número aleatorio entre 1 y 100 y luego pedir al usuario que ingrese un número. Si el número ingresado es mayor, menor o igual que el número secreto, el programa debe indicarlo y seguir pidiendo al usuario que intente nuevamente hasta que adivine el número.\n",
    "\n",
    "### Instrucciones:\n",
    "1. El programa debe generar un número aleatorio entre 1 y 100.\n",
    "2. Pide al usuario que ingrese un número.\n",
    "3. Usa un ciclo `while` para seguir pidiendo al usuario que ingrese un número hasta que adivine el número secreto.\n",
    "4. Imprime si el número ingresado es mayor, menor o igual que el número secreto.\n",
    "\n",
    "### Ejemplo de salida:\n",
    "\n",
    "Si el número secreto es 42 y el usuario ingresa varios intentos:\n",
    "\n",
    "Adivina el número entre 1 y 100: 50\n",
    "\n",
    "El número es menor, intenta nuevamente.\n",
    "\n",
    "Adivina el número entre 1 y 100: 30\n",
    "\n",
    "El número es mayor, intenta nuevamente.\n",
    "\n",
    "Adivina el número entre 1 y 100: 42\n",
    "\n",
    "¡Felicidades! Adivinaste el número secreto.\n"
   ]
  },
  {
   "cell_type": "markdown",
   "metadata": {},
   "source": [
    "## Concatenación en Java con el Operador `+`\n",
    "\n",
    "### Explicación:\n",
    "\n",
    "En Java, puedes concatenar cadenas utilizando el operador `+`. Este método es el más sencillo y común para combinar texto y variables en una sola cadena. Es ideal para situaciones en las que necesitas formar una cadena con un número limitado de elementos.\n",
    "\n",
    "### Ejemplo:\n",
    "\n",
    "\n"
   ]
  },
  {
   "cell_type": "code",
   "execution_count": null,
   "metadata": {},
   "outputs": [],
   "source": [
    "public class Main {\n",
    "    public static void main(String[] args) {\n",
    "        String nombre = \"Juan\";\n",
    "        int edad = 20;\n",
    "        System.out.println(\"Mi nombre es \" + nombre + \" y tengo \" + edad + \" años.\");\n",
    "    }\n",
    "}"
   ]
  },
  {
   "cell_type": "markdown",
   "metadata": {},
   "source": [
    "## Uso de `printf` en Java\n",
    "\n",
    "### Explicación:\n",
    "\n",
    "El método `printf` en Java es utilizado para imprimir cadenas formateadas. Permite insertar variables dentro de una cadena, manteniendo un formato claro y específico. Es útil cuando necesitas un control más preciso sobre la salida, como la alineación de texto, la cantidad de decimales, o el formato de diferentes tipos de datos.\n",
    "\n",
    "### Estructura del Código:\n",
    "\n",
    "La estructura básica de un `printf` en Java es la siguiente:\n",
    "\n",
    "```java\n",
    "System.out.printf(\"Formato de la cadena\", argumento1, argumento2, ...);\n"
   ]
  },
  {
   "cell_type": "markdown",
   "metadata": {},
   "source": [
    "### Variantes de los Especificadores de Formato:\n",
    "\n",
    "En `printf`, puedes utilizar una variedad de especificadores de formato, dependiendo del tipo de dato que deseas mostrar:\n",
    "\n",
    "- **`%s`**: Representa una cadena de caracteres (String).\n",
    "- **`%d`**: Representa un número entero en formato decimal (int).\n",
    "- **`%f`**: Representa un número de punto flotante (float o double).\n",
    "- **`%x`**: Representa un número entero en formato hexadecimal (base 16).\n",
    "- **`%o`**: Representa un número en formato octal (base 8).\n",
    "- **`%c`**: Representa un solo carácter.\n",
    "- **`%b`**: Representa un valor booleano (true o false).\n",
    "- **`%e`**: Representa un número en notación científica (expone un número de punto flotante en forma exponencial).\n"
   ]
  },
  {
   "cell_type": "code",
   "execution_count": null,
   "metadata": {},
   "outputs": [],
   "source": [
    "public class Main {\n",
    "    public static void main(String[] args) {\n",
    "        String nombre = \"Juan\";\n",
    "        int edad = 20;\n",
    "        double salario = 12345.678;\n",
    "        boolean isEstudiante = true;\n",
    "        \n",
    "        System.out.printf(\"Mi nombre es %s y tengo %d años.\\n\", nombre, edad);\n",
    "        System.out.printf(\"Mi salario es %.2f y estoy estudiante: %b.\\n\", salario, isEstudiante);\n",
    "        System.out.printf(\"Número en hexadecimal: %x\\n\", edad);\n",
    "    }\n",
    "}\n"
   ]
  }
 ],
 "metadata": {
  "language_info": {
   "name": "python"
  }
 },
 "nbformat": 4,
 "nbformat_minor": 2
}
